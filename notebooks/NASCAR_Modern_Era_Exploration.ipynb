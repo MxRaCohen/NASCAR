{
 "cells": [
  {
   "cell_type": "markdown",
   "id": "cd653480-5298-4ed5-baca-59ca88bfbbe1",
   "metadata": {},
   "source": [
    "# NASCAR Modern Era Data Exploration\n",
    "by Ra Cohen and Richard Koerner"
   ]
  },
  {
   "cell_type": "code",
   "execution_count": null,
   "id": "f09249ba-a479-4054-9a05-f9c266055abc",
   "metadata": {
    "tags": []
   },
   "outputs": [],
   "source": [
    "import numpy as np\n",
    "import pandas as pd\n",
    "import matplotlib.pyplot as plt\n",
    "import matplotlib.dates as mdates\n",
    "import seaborn as sns\n",
    "\n",
    "# Load the data set\n",
    "nascar_df = pd.read_csv('../data/NASCAR_Modern_Era.csv')\n",
    "\n",
    "# Show the loaded data set\n",
    "nascar_df.head()"
   ]
  },
  {
   "cell_type": "code",
   "execution_count": null,
   "id": "abbc60cd-1f3c-4fb9-b68b-95d6eedb93dd",
   "metadata": {},
   "outputs": [],
   "source": []
  }
 ],
 "metadata": {
  "kernelspec": {
   "display_name": "Python 3 (ipykernel)",
   "language": "python",
   "name": "python3"
  },
  "language_info": {
   "codemirror_mode": {
    "name": "ipython",
    "version": 3
   },
   "file_extension": ".py",
   "mimetype": "text/x-python",
   "name": "python",
   "nbconvert_exporter": "python",
   "pygments_lexer": "ipython3",
   "version": "3.9.16"
  }
 },
 "nbformat": 4,
 "nbformat_minor": 5
}
